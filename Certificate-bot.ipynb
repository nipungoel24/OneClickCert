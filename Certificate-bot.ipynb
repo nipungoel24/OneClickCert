{
 "cells": [
  {
   "cell_type": "code",
   "execution_count": null,
   "metadata": {},
   "outputs": [
    {
     "ename": "SMTPAuthenticationError",
     "evalue": "(535, b'5.7.8 Username and Password not accepted. For more information, go to\\n5.7.8  https://support.google.com/mail/?p=BadCredentials d2e1a72fcca58-73242761637sm5118594b3a.138 - gsmtp')",
     "output_type": "error",
     "traceback": [
      "\u001b[1;31m---------------------------------------------------------------------------\u001b[0m",
      "\u001b[1;31mSMTPAuthenticationError\u001b[0m                   Traceback (most recent call last)",
      "Cell \u001b[1;32mIn[7], line 18\u001b[0m\n\u001b[0;32m     16\u001b[0m server \u001b[38;5;241m=\u001b[39m smtplib\u001b[38;5;241m.\u001b[39mSMTP(\u001b[38;5;124m\"\u001b[39m\u001b[38;5;124msmtp.gmail.com\u001b[39m\u001b[38;5;124m\"\u001b[39m, \u001b[38;5;241m587\u001b[39m)\n\u001b[0;32m     17\u001b[0m server\u001b[38;5;241m.\u001b[39mstarttls()\n\u001b[1;32m---> 18\u001b[0m \u001b[43mserver\u001b[49m\u001b[38;5;241;43m.\u001b[39;49m\u001b[43mlogin\u001b[49m\u001b[43m(\u001b[49m\u001b[43mSENDER_EMAIL\u001b[49m\u001b[43m,\u001b[49m\u001b[43m \u001b[49m\u001b[43mSENDER_PASSWORD\u001b[49m\u001b[43m)\u001b[49m\n",
      "File \u001b[1;32mc:\\Users\\Asus\\miniconda3\\envs\\myenv\\Lib\\smtplib.py:750\u001b[0m, in \u001b[0;36mSMTP.login\u001b[1;34m(self, user, password, initial_response_ok)\u001b[0m\n\u001b[0;32m    747\u001b[0m         last_exception \u001b[38;5;241m=\u001b[39m e\n\u001b[0;32m    749\u001b[0m \u001b[38;5;66;03m# We could not login successfully.  Return result of last attempt.\u001b[39;00m\n\u001b[1;32m--> 750\u001b[0m \u001b[38;5;28;01mraise\u001b[39;00m last_exception\n",
      "File \u001b[1;32mc:\\Users\\Asus\\miniconda3\\envs\\myenv\\Lib\\smtplib.py:739\u001b[0m, in \u001b[0;36mSMTP.login\u001b[1;34m(self, user, password, initial_response_ok)\u001b[0m\n\u001b[0;32m    737\u001b[0m method_name \u001b[38;5;241m=\u001b[39m \u001b[38;5;124m'\u001b[39m\u001b[38;5;124mauth_\u001b[39m\u001b[38;5;124m'\u001b[39m \u001b[38;5;241m+\u001b[39m authmethod\u001b[38;5;241m.\u001b[39mlower()\u001b[38;5;241m.\u001b[39mreplace(\u001b[38;5;124m'\u001b[39m\u001b[38;5;124m-\u001b[39m\u001b[38;5;124m'\u001b[39m, \u001b[38;5;124m'\u001b[39m\u001b[38;5;124m_\u001b[39m\u001b[38;5;124m'\u001b[39m)\n\u001b[0;32m    738\u001b[0m \u001b[38;5;28;01mtry\u001b[39;00m:\n\u001b[1;32m--> 739\u001b[0m     (code, resp) \u001b[38;5;241m=\u001b[39m \u001b[38;5;28;43mself\u001b[39;49m\u001b[38;5;241;43m.\u001b[39;49m\u001b[43mauth\u001b[49m\u001b[43m(\u001b[49m\n\u001b[0;32m    740\u001b[0m \u001b[43m        \u001b[49m\u001b[43mauthmethod\u001b[49m\u001b[43m,\u001b[49m\u001b[43m \u001b[49m\u001b[38;5;28;43mgetattr\u001b[39;49m\u001b[43m(\u001b[49m\u001b[38;5;28;43mself\u001b[39;49m\u001b[43m,\u001b[49m\u001b[43m \u001b[49m\u001b[43mmethod_name\u001b[49m\u001b[43m)\u001b[49m\u001b[43m,\u001b[49m\n\u001b[0;32m    741\u001b[0m \u001b[43m        \u001b[49m\u001b[43minitial_response_ok\u001b[49m\u001b[38;5;241;43m=\u001b[39;49m\u001b[43minitial_response_ok\u001b[49m\u001b[43m)\u001b[49m\n\u001b[0;32m    742\u001b[0m     \u001b[38;5;66;03m# 235 == 'Authentication successful'\u001b[39;00m\n\u001b[0;32m    743\u001b[0m     \u001b[38;5;66;03m# 503 == 'Error: already authenticated'\u001b[39;00m\n\u001b[0;32m    744\u001b[0m     \u001b[38;5;28;01mif\u001b[39;00m code \u001b[38;5;129;01min\u001b[39;00m (\u001b[38;5;241m235\u001b[39m, \u001b[38;5;241m503\u001b[39m):\n",
      "File \u001b[1;32mc:\\Users\\Asus\\miniconda3\\envs\\myenv\\Lib\\smtplib.py:662\u001b[0m, in \u001b[0;36mSMTP.auth\u001b[1;34m(self, mechanism, authobject, initial_response_ok)\u001b[0m\n\u001b[0;32m    660\u001b[0m \u001b[38;5;28;01mif\u001b[39;00m code \u001b[38;5;129;01min\u001b[39;00m (\u001b[38;5;241m235\u001b[39m, \u001b[38;5;241m503\u001b[39m):\n\u001b[0;32m    661\u001b[0m     \u001b[38;5;28;01mreturn\u001b[39;00m (code, resp)\n\u001b[1;32m--> 662\u001b[0m \u001b[38;5;28;01mraise\u001b[39;00m SMTPAuthenticationError(code, resp)\n",
      "\u001b[1;31mSMTPAuthenticationError\u001b[0m: (535, b'5.7.8 Username and Password not accepted. For more information, go to\\n5.7.8  https://support.google.com/mail/?p=BadCredentials d2e1a72fcca58-73242761637sm5118594b3a.138 - gsmtp')"
     ]
    }
   ],
   "source": [
    "import pandas as pd\n",
    "from PIL import Image, ImageDraw, ImageFont\n",
    "import os\n",
    "import smtplib\n",
    "from email.message import EmailMessage\n",
    "\n",
    "# Load Excel Sheet\n",
    "df = pd.read_excel(\"greenite2.xlsx\")  # Ensure the Excel file has 'Name' and 'Designation' columns\n",
    "font_path = \"Font/Duarose_Serif.otf\"\n",
    "\n",
    "# Define Paths for Different Certificate Templates\n",
    "TEMPLATES = {\n",
    "    \"Head\": \"Certificate_template/Core-member-certificate.png\",         # Template for Head\n",
    "    \"Volunteer\": \"Certificate_template/Volunteer-certificate.png\",  # Template for Volunteer\n",
    "    \"Member\": \"Certificate_template/Member-certificate.png\"          # Template for Member\n",
    "}\n",
    "\n",
    "# Email Credentials (Use App Password if using Gmail)\n",
    "SENDER_EMAIL = \"meet.arora2403@gmail.com\"   # Replace with your email\n",
    "SENDER_PASSWORD = \"qpsi vrri oocc kelq\"       # Replace with your email app password\n",
    "\n",
    "# Set up SMTP Server (For Gmail)\n",
    "server = smtplib.SMTP(\"smtp.gmail.com\", 587)\n",
    "server.starttls()\n",
    "server.login(SENDER_EMAIL, SENDER_PASSWORD)"
   ]
  },
  {
   "cell_type": "code",
   "execution_count": null,
   "metadata": {},
   "outputs": [
    {
     "name": "stdout",
     "output_type": "stream",
     "text": [
      "Certificate saved as PDF for: Meet Arora (Head)\n",
      "Email sent to nipungoel346@gmail.com\n",
      "Certificate saved as PDF for: Ayush kumar  (Volunteer)\n",
      "Email sent to nipungoel346@gmail.com\n",
      "Certificate saved as PDF for: Anuska (Member)\n",
      "Email sent to nipungoel346@gmail.com\n",
      "All certificates generated successfully!\n",
      "All emails sent successfully!\n"
     ]
    }
   ],
   "source": [
    "# Define Font (Ensure the TTF file exists)\n",
    "font = ImageFont.truetype(font_path, 40)  # Adjust font size if needed\n",
    "greenite_font = ImageFont.truetype(font_path, 40)  # Adjust font size if needed\n",
    "\n",
    "\n",
    "TEXT_POSITIONS = {\n",
    "    \"Head\": (1300, 637),        # X, Y coordinates for Head template\n",
    "    \"Volunteer\": (1265, 690),   # X, Y coordinates for Volunteer template\n",
    "    \"Member\": (1300, 685)       # X, Y coordinates for Member template\n",
    "}\n",
    "\n",
    "# Define Text Positions for Each Template\n",
    "GREENITE_POSITIONS = {\n",
    "    \"Head\": (410, 770),        # Adjust as needed for Head template\n",
    "    \"Volunteer\": (900, 750),    # Adjust as needed for Volunteer template\n",
    "    \"Member\": (1100, 750)        # Adjust as needed for Member template\n",
    "}\n",
    "\n",
    "# Ensure 'certificates' folder exists\n",
    "os.makedirs(\"greenites\", exist_ok=True)\n",
    "\n",
    "for index, row in df.iterrows():\n",
    "    name = row[\"Name\"]\n",
    "    designation = row[\"Designation\"]\n",
    "    recipient_email = row[\"Email\"]\n",
    "    # Select the appropriate template based on Designation\n",
    "    template_path = TEMPLATES.get(designation, \"certificate_template.jpg\")  # Default if designation not found\n",
    "\n",
    "    if not os.path.exists(template_path):\n",
    "        print(f\"Template not found for {designation}, skipping {name}\")\n",
    "        continue  # Skip if template does not exist\n",
    "\n",
    "    # Load the selected template\n",
    "    template = Image.open(template_path)\n",
    "\n",
    "    # Get the correct text position for the designation\n",
    "    text_x, text_y = TEXT_POSITIONS.get(designation, (500, 300))  # Default position if designation not found\n",
    "    greenite_x, greenite_y = GREENITE_POSITIONS.get(designation, (200, 100))  # Default position if not found\n",
    "    # Create a copy of the template for each certificate\n",
    "    cert = template.copy()\n",
    "\n",
    "    # Draw Name on Certificate\n",
    "    draw = ImageDraw.Draw(cert)\n",
    "    draw.text((text_x, text_y), name, fill=\"black\", font=font)  # Adjust color if needed\n",
    "    draw.text((greenite_x, greenite_y), \"Greenite\", fill=\"black\", font=greenite_font)  # Greenite text\n",
    "\n",
    "    # Save Certificate\n",
    "    cert_filename = f\"greenites/{name}.png\"\n",
    "    cert.save(cert_filename)\n",
    "    # pdf_filename = f\"certificates/{name}.pdf\"\n",
    "    # cert.convert(\"RGB\").save(pdf_filename)  # Convert to RGB for PDF format\n",
    "\n",
    "    print(f\"Certificate saved as PDF for: {name} ({designation})\")\n",
    "    # Create Email Message\n",
    "    \n",
    "    msg = EmailMessage()\n",
    "    msg[\"Subject\"] = \"Your Certificate\"\n",
    "    msg[\"From\"] = SENDER_EMAIL\n",
    "    msg[\"To\"] = recipient_email\n",
    "    msg.set_content(f\"Dear {name},\\n\\nPlease find attached your certificate.\\n\\nBest Regards,\\nPrakriti MSIT\")\n",
    "\n",
    "    # Attach the Certificate File\n",
    "    with open(cert_filename, \"rb\") as attachment:\n",
    "        msg.add_attachment(attachment.read(), maintype=\"image\", subtype=\"png\", filename=f\"{name}.png\")\n",
    "\n",
    "    # Send Email\n",
    "    server.send_message(msg)\n",
    "    print(f\"Email sent to {recipient_email}\")\n",
    "\n",
    "print(\"All certificates generated successfully!\")\n",
    "# Close SMTP Server\n",
    "server.quit()\n",
    "print(\"All emails sent successfully!\")"
   ]
  },
  {
   "cell_type": "code",
   "execution_count": null,
   "metadata": {},
   "outputs": [],
   "source": [
    "        "
   ]
  }
 ],
 "metadata": {
  "kernelspec": {
   "display_name": "myenv",
   "language": "python",
   "name": "python3"
  },
  "language_info": {
   "codemirror_mode": {
    "name": "ipython",
    "version": 3
   },
   "file_extension": ".py",
   "mimetype": "text/x-python",
   "name": "python",
   "nbconvert_exporter": "python",
   "pygments_lexer": "ipython3",
   "version": "3.12.4"
  }
 },
 "nbformat": 4,
 "nbformat_minor": 2
}
