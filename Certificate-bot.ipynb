{
 "cells": [
  {
   "cell_type": "code",
   "execution_count": 4,
   "metadata": {},
   "outputs": [
    {
     "name": "stdout",
     "output_type": "stream",
     "text": [
      "Collecting oauth2client\n",
      "  Downloading oauth2client-4.1.3-py2.py3-none-any.whl.metadata (1.2 kB)\n",
      "Collecting httplib2>=0.9.1 (from oauth2client)\n",
      "  Downloading httplib2-0.22.0-py3-none-any.whl.metadata (2.6 kB)\n",
      "Requirement already satisfied: pyasn1>=0.1.7 in c:\\users\\asus\\miniconda3\\envs\\myenv\\lib\\site-packages (from oauth2client) (0.6.1)\n",
      "Requirement already satisfied: pyasn1-modules>=0.0.5 in c:\\users\\asus\\miniconda3\\envs\\myenv\\lib\\site-packages (from oauth2client) (0.4.1)\n",
      "Requirement already satisfied: rsa>=3.1.4 in c:\\users\\asus\\miniconda3\\envs\\myenv\\lib\\site-packages (from oauth2client) (4.9)\n",
      "Requirement already satisfied: six>=1.6.1 in c:\\users\\asus\\miniconda3\\envs\\myenv\\lib\\site-packages (from oauth2client) (1.16.0)\n",
      "Requirement already satisfied: pyparsing!=3.0.0,!=3.0.1,!=3.0.2,!=3.0.3,<4,>=2.4.2 in c:\\users\\asus\\miniconda3\\envs\\myenv\\lib\\site-packages (from httplib2>=0.9.1->oauth2client) (3.0.9)\n",
      "Downloading oauth2client-4.1.3-py2.py3-none-any.whl (98 kB)\n",
      "   ---------------------------------------- 0.0/98.2 kB ? eta -:--:--\n",
      "   ---- ----------------------------------- 10.2/98.2 kB ? eta -:--:--\n",
      "   ------------------------------------- -- 92.2/98.2 kB 1.3 MB/s eta 0:00:01\n",
      "   ---------------------------------------- 98.2/98.2 kB 1.1 MB/s eta 0:00:00\n",
      "Downloading httplib2-0.22.0-py3-none-any.whl (96 kB)\n",
      "   ---------------------------------------- 0.0/96.9 kB ? eta -:--:--\n",
      "   ---------------------------------------- 96.9/96.9 kB 5.8 MB/s eta 0:00:00\n",
      "Installing collected packages: httplib2, oauth2client\n",
      "Successfully installed httplib2-0.22.0 oauth2client-4.1.3\n"
     ]
    }
   ],
   "source": [
    "!pip install oauth2client\n"
   ]
  },
  {
   "cell_type": "code",
   "execution_count": 5,
   "metadata": {},
   "outputs": [
    {
     "ename": "FileNotFoundError",
     "evalue": "[Errno 2] No such file or directory: 'credentials.json'",
     "output_type": "error",
     "traceback": [
      "\u001b[1;31m---------------------------------------------------------------------------\u001b[0m",
      "\u001b[1;31mFileNotFoundError\u001b[0m                         Traceback (most recent call last)",
      "Cell \u001b[1;32mIn[5], line 23\u001b[0m\n\u001b[0;32m     20\u001b[0m \u001b[38;5;66;03m# Google Sheets API Setup\u001b[39;00m\n\u001b[0;32m     21\u001b[0m scope \u001b[38;5;241m=\u001b[39m [\u001b[38;5;124m\"\u001b[39m\u001b[38;5;124mhttps://spreadsheets.google.com/feeds\u001b[39m\u001b[38;5;124m\"\u001b[39m, \u001b[38;5;124m\"\u001b[39m\u001b[38;5;124mhttps://www.googleapis.com/auth/spreadsheets\u001b[39m\u001b[38;5;124m\"\u001b[39m,\n\u001b[0;32m     22\u001b[0m          \u001b[38;5;124m\"\u001b[39m\u001b[38;5;124mhttps://www.googleapis.com/auth/drive.file\u001b[39m\u001b[38;5;124m\"\u001b[39m, \u001b[38;5;124m\"\u001b[39m\u001b[38;5;124mhttps://www.googleapis.com/auth/drive\u001b[39m\u001b[38;5;124m\"\u001b[39m]\n\u001b[1;32m---> 23\u001b[0m creds \u001b[38;5;241m=\u001b[39m \u001b[43mServiceAccountCredentials\u001b[49m\u001b[38;5;241;43m.\u001b[39;49m\u001b[43mfrom_json_keyfile_name\u001b[49m\u001b[43m(\u001b[49m\u001b[38;5;124;43m\"\u001b[39;49m\u001b[38;5;124;43mcredentials.json\u001b[39;49m\u001b[38;5;124;43m\"\u001b[39;49m\u001b[43m,\u001b[49m\u001b[43m \u001b[49m\u001b[43mscope\u001b[49m\u001b[43m)\u001b[49m\n\u001b[0;32m     24\u001b[0m client \u001b[38;5;241m=\u001b[39m gspread\u001b[38;5;241m.\u001b[39mauthorize(creds)\n\u001b[0;32m     26\u001b[0m \u001b[38;5;66;03m# Open Google Sheet\u001b[39;00m\n",
      "File \u001b[1;32mc:\\Users\\Asus\\miniconda3\\envs\\myenv\\Lib\\site-packages\\oauth2client\\service_account.py:219\u001b[0m, in \u001b[0;36mServiceAccountCredentials.from_json_keyfile_name\u001b[1;34m(cls, filename, scopes, token_uri, revoke_uri)\u001b[0m\n\u001b[0;32m    193\u001b[0m \u001b[38;5;129m@classmethod\u001b[39m\n\u001b[0;32m    194\u001b[0m \u001b[38;5;28;01mdef\u001b[39;00m \u001b[38;5;21mfrom_json_keyfile_name\u001b[39m(\u001b[38;5;28mcls\u001b[39m, filename, scopes\u001b[38;5;241m=\u001b[39m\u001b[38;5;124m'\u001b[39m\u001b[38;5;124m'\u001b[39m,\n\u001b[0;32m    195\u001b[0m                            token_uri\u001b[38;5;241m=\u001b[39m\u001b[38;5;28;01mNone\u001b[39;00m, revoke_uri\u001b[38;5;241m=\u001b[39m\u001b[38;5;28;01mNone\u001b[39;00m):\n\u001b[0;32m    197\u001b[0m \u001b[38;5;250m    \u001b[39m\u001b[38;5;124;03m\"\"\"Factory constructor from JSON keyfile by name.\u001b[39;00m\n\u001b[0;32m    198\u001b[0m \n\u001b[0;32m    199\u001b[0m \u001b[38;5;124;03m    Args:\u001b[39;00m\n\u001b[1;32m   (...)\u001b[0m\n\u001b[0;32m    217\u001b[0m \u001b[38;5;124;03m            the keyfile.\u001b[39;00m\n\u001b[0;32m    218\u001b[0m \u001b[38;5;124;03m    \"\"\"\u001b[39;00m\n\u001b[1;32m--> 219\u001b[0m     \u001b[38;5;28;01mwith\u001b[39;00m \u001b[38;5;28;43mopen\u001b[39;49m\u001b[43m(\u001b[49m\u001b[43mfilename\u001b[49m\u001b[43m,\u001b[49m\u001b[43m \u001b[49m\u001b[38;5;124;43m'\u001b[39;49m\u001b[38;5;124;43mr\u001b[39;49m\u001b[38;5;124;43m'\u001b[39;49m\u001b[43m)\u001b[49m \u001b[38;5;28;01mas\u001b[39;00m file_obj:\n\u001b[0;32m    220\u001b[0m         client_credentials \u001b[38;5;241m=\u001b[39m json\u001b[38;5;241m.\u001b[39mload(file_obj)\n\u001b[0;32m    221\u001b[0m     \u001b[38;5;28;01mreturn\u001b[39;00m \u001b[38;5;28mcls\u001b[39m\u001b[38;5;241m.\u001b[39m_from_parsed_json_keyfile(client_credentials, scopes,\n\u001b[0;32m    222\u001b[0m                                          token_uri\u001b[38;5;241m=\u001b[39mtoken_uri,\n\u001b[0;32m    223\u001b[0m                                          revoke_uri\u001b[38;5;241m=\u001b[39mrevoke_uri)\n",
      "\u001b[1;31mFileNotFoundError\u001b[0m: [Errno 2] No such file or directory: 'credentials.json'"
     ]
    }
   ],
   "source": [
    "import pandas as pd\n",
    "from PIL import Image, ImageDraw, ImageFont\n",
    "import os\n",
    "import smtplib\n",
    "from email.message import EmailMessage\n",
    "import gspread\n",
    "from oauth2client.service_account import ServiceAccountCredentials\n",
    "\n",
    "# Load Excel Sheet\n",
    "df = pd.read_excel(\"greenite2.xlsx\")  # Ensure the Excel file has 'Name' and 'Designation' columns\n",
    "font_path = \"Font/Duarose_Serif.otf\"\n",
    "\n",
    "# Define Paths for Different Certificate Templates\n",
    "TEMPLATES = {\n",
    "    \"Head\": \"Certificate_template/Core-member-certificate.png\",         # Template for Head\n",
    "    \"Volunteer\": \"Certificate_template/Volunteer-certificate.png\",  # Template for Volunteer\n",
    "    \"Member\": \"Certificate_template/Member-certificate.png\"          # Template for Member\n",
    "}\n",
    "\n",
    "# Google Sheets API Setup\n",
    "scope = [\"https://spreadsheets.google.com/feeds\", \"https://www.googleapis.com/auth/spreadsheets\",\n",
    "         \"https://www.googleapis.com/auth/drive.file\", \"https://www.googleapis.com/auth/drive\"]\n",
    "creds = ServiceAccountCredentials.from_json_keyfile_name(\"credentials.json\", scope)\n",
    "client = gspread.authorize(creds)\n",
    "\n",
    "# Open Google Sheet\n",
    "sheet = client.open(\"Certificate_Details\").sheet1  # Change name as needed\n",
    "\n",
    "# Email Credentials (Use App Password if using Gmail)\n",
    "SENDER_EMAIL = \"meet.arora2403@gmail.com\"   # Replace with your email\n",
    "SENDER_PASSWORD = \"sqpj ijhe ppcg kxrx\"       # Replace with your email app password\n",
    "\n",
    "# Set up SMTP Server (For Gmail)\n",
    "server = smtplib.SMTP(\"smtp.gmail.com\", 587)\n",
    "server.starttls()\n",
    "server.login(SENDER_EMAIL, SENDER_PASSWORD)"
   ]
  },
  {
   "cell_type": "code",
   "execution_count": null,
   "metadata": {},
   "outputs": [
    {
     "name": "stdout",
     "output_type": "stream",
     "text": [
      "Certificate saved as PDF for: Meet Arora (Head)\n",
      "Email sent to nipungoel346@gmail.com\n",
      "Certificate saved as PDF for: Ayush kumar  (Volunteer)\n",
      "Email sent to nipungoel346@gmail.com\n",
      "Certificate saved as PDF for: Anuska (Member)\n",
      "Email sent to nipungoel346@gmail.com\n",
      "All certificates generated successfully!\n",
      "All emails sent successfully!\n"
     ]
    }
   ],
   "source": [
    "# Define Font (Ensure the TTF file exists)\n",
    "font = ImageFont.truetype(font_path, 40)  # Adjust font size if needed\n",
    "greenite_font = ImageFont.truetype(font_path, 40)  # Adjust font size if needed\n",
    "\n",
    "\n",
    "TEXT_POSITIONS = {\n",
    "    \"Head\": (1300, 637),        # X, Y coordinates for Head template\n",
    "    \"Volunteer\": (1265, 690),   # X, Y coordinates for Volunteer template\n",
    "    \"Member\": (1300, 685)       # X, Y coordinates for Member template\n",
    "}\n",
    "\n",
    "# Define \"Greenite\" Text Positions for Each Template\n",
    "GREENITE_POSITIONS = {\n",
    "    \"Head\": (410, 770),        # Adjust as needed for Head template\n",
    "    \"Volunteer\": (900, 750),    # Adjust as needed for Volunteer template\n",
    "    \"Member\": (1100, 750)        # Adjust as needed for Member template\n",
    "}\n",
    "\n",
    "# Ensure 'certificates' folder exists\n",
    "os.makedirs(\"greenites\", exist_ok=True)\n",
    "\n",
    "for index, row in df.iterrows():\n",
    "    name = row[\"Name\"]\n",
    "    designation = row[\"Designation\"]\n",
    "    recipient_email = row[\"Email\"]\n",
    "    year = row[\"YEAR\"]\n",
    "    contact = row[\"CONTACT\"]\n",
    "    enrollment = row[\"Enrollment No\"]\n",
    "    # Select the appropriate template based on Designation\n",
    "    template_path = TEMPLATES.get(designation, \"certificate_template.jpg\")  # Default if designation not found\n",
    "\n",
    "    if not os.path.exists(template_path):\n",
    "        print(f\"Template not found for {designation}, skipping {name}\")\n",
    "        continue  # Skip if template does not exist\n",
    "\n",
    "    # Load the selected template\n",
    "    template = Image.open(template_path)\n",
    "\n",
    "    # Get the correct text position for the designation\n",
    "    text_x, text_y = TEXT_POSITIONS.get(designation, (500, 300))  # Default position if designation not found\n",
    "    greenite_x, greenite_y = GREENITE_POSITIONS.get(designation, (200, 100))  # Default position if not found\n",
    "    # Create a copy of the template for each certificate\n",
    "    cert = template.copy()\n",
    "\n",
    "    # Draw Name on Certificate\n",
    "    draw = ImageDraw.Draw(cert)\n",
    "    draw.text((text_x, text_y), name, fill=\"black\", font=font)  # Adjust color if needed\n",
    "    draw.text((greenite_x, greenite_y), \"Greenite\", fill=\"black\", font=greenite_font)  # Greenite text\n",
    "\n",
    "    # Save Certificate\n",
    "    # cert_filename = f\"greenites/{name}.png\"\n",
    "    # cert.save(cert_filename)\n",
    "    pdf_filename = f\"certificates/{name}.pdf\"\n",
    "    cert.convert(\"RGB\").save(pdf_filename)  # Convert to RGB for PDF format\n",
    "\n",
    "    print(f\"Certificate saved as PDF for: {name} ({designation})\")\n",
    "    # Create Email Message\n",
    "    \n",
    "    msg = EmailMessage()\n",
    "    msg[\"Subject\"] = \"Your Certificate\"\n",
    "    msg[\"From\"] = SENDER_EMAIL\n",
    "    msg[\"To\"] = recipient_email\n",
    "    msg.set_content(f\"Dear {name},\\n\\nPlease find attached your certificate.\\n\\nBest Regards,\\nPrakriti MSIT\")\n",
    "\n",
    "    # Attach the Certificate File\n",
    "    with open(pdf_filename, \"rb\") as attachment:\n",
    "        msg.add_attachment(attachment.read(), maintype=\"image\", subtype=\"pdf\", filename=f\"{name}.pdf\")\n",
    "\n",
    "    # Send Email\n",
    "    server.send_message(msg)\n",
    "    print(f\"Email sent to {recipient_email}\")\n",
    "\n",
    "    # Add details to Google Sheet\n",
    "    sheet.append_row([name, year, enrollment, contact, recipient_email, designation])\n",
    "\n",
    "print(\"All certificates generated successfully!\")\n",
    "# Close SMTP Server\n",
    "server.quit()\n",
    "print(\"All emails sent successfully!\")"
   ]
  },
  {
   "cell_type": "code",
   "execution_count": null,
   "metadata": {},
   "outputs": [],
   "source": []
  }
 ],
 "metadata": {
  "kernelspec": {
   "display_name": "myenv",
   "language": "python",
   "name": "python3"
  },
  "language_info": {
   "codemirror_mode": {
    "name": "ipython",
    "version": 3
   },
   "file_extension": ".py",
   "mimetype": "text/x-python",
   "name": "python",
   "nbconvert_exporter": "python",
   "pygments_lexer": "ipython3",
   "version": "3.12.4"
  }
 },
 "nbformat": 4,
 "nbformat_minor": 2
}
