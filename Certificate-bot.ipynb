{
 "cells": [
  {
   "cell_type": "code",
   "execution_count": 2,
   "metadata": {},
   "outputs": [
    {
     "ename": "FileNotFoundError",
     "evalue": "[Errno 2] No such file or directory: 'greenite2.xlsx'",
     "output_type": "error",
     "traceback": [
      "\u001b[1;31m---------------------------------------------------------------------------\u001b[0m",
      "\u001b[1;31mFileNotFoundError\u001b[0m                         Traceback (most recent call last)",
      "Cell \u001b[1;32mIn[2], line 8\u001b[0m\n\u001b[0;32m      5\u001b[0m \u001b[38;5;28;01mfrom\u001b[39;00m \u001b[38;5;21;01memail\u001b[39;00m\u001b[38;5;21;01m.\u001b[39;00m\u001b[38;5;21;01mmessage\u001b[39;00m \u001b[38;5;28;01mimport\u001b[39;00m EmailMessage\n\u001b[0;32m      7\u001b[0m \u001b[38;5;66;03m# Load Excel Sheet\u001b[39;00m\n\u001b[1;32m----> 8\u001b[0m df \u001b[38;5;241m=\u001b[39m \u001b[43mpd\u001b[49m\u001b[38;5;241;43m.\u001b[39;49m\u001b[43mread_excel\u001b[49m\u001b[43m(\u001b[49m\u001b[38;5;124;43m\"\u001b[39;49m\u001b[38;5;124;43mgreenite2.xlsx\u001b[39;49m\u001b[38;5;124;43m\"\u001b[39;49m\u001b[43m)\u001b[49m  \u001b[38;5;66;03m# Ensure the Excel file has 'Name' and 'Designation' columns\u001b[39;00m\n\u001b[0;32m      9\u001b[0m font_path \u001b[38;5;241m=\u001b[39m \u001b[38;5;124m\"\u001b[39m\u001b[38;5;124mduarose_serif/Duarose.otf\u001b[39m\u001b[38;5;124m\"\u001b[39m\n\u001b[0;32m     11\u001b[0m \u001b[38;5;66;03m# Email Credentials (Use App Password if using Gmail)\u001b[39;00m\n",
      "File \u001b[1;32mc:\\Users\\Asus\\miniconda3\\envs\\myenv\\Lib\\site-packages\\pandas\\io\\excel\\_base.py:495\u001b[0m, in \u001b[0;36mread_excel\u001b[1;34m(io, sheet_name, header, names, index_col, usecols, dtype, engine, converters, true_values, false_values, skiprows, nrows, na_values, keep_default_na, na_filter, verbose, parse_dates, date_parser, date_format, thousands, decimal, comment, skipfooter, storage_options, dtype_backend, engine_kwargs)\u001b[0m\n\u001b[0;32m    493\u001b[0m \u001b[38;5;28;01mif\u001b[39;00m \u001b[38;5;129;01mnot\u001b[39;00m \u001b[38;5;28misinstance\u001b[39m(io, ExcelFile):\n\u001b[0;32m    494\u001b[0m     should_close \u001b[38;5;241m=\u001b[39m \u001b[38;5;28;01mTrue\u001b[39;00m\n\u001b[1;32m--> 495\u001b[0m     io \u001b[38;5;241m=\u001b[39m \u001b[43mExcelFile\u001b[49m\u001b[43m(\u001b[49m\n\u001b[0;32m    496\u001b[0m \u001b[43m        \u001b[49m\u001b[43mio\u001b[49m\u001b[43m,\u001b[49m\n\u001b[0;32m    497\u001b[0m \u001b[43m        \u001b[49m\u001b[43mstorage_options\u001b[49m\u001b[38;5;241;43m=\u001b[39;49m\u001b[43mstorage_options\u001b[49m\u001b[43m,\u001b[49m\n\u001b[0;32m    498\u001b[0m \u001b[43m        \u001b[49m\u001b[43mengine\u001b[49m\u001b[38;5;241;43m=\u001b[39;49m\u001b[43mengine\u001b[49m\u001b[43m,\u001b[49m\n\u001b[0;32m    499\u001b[0m \u001b[43m        \u001b[49m\u001b[43mengine_kwargs\u001b[49m\u001b[38;5;241;43m=\u001b[39;49m\u001b[43mengine_kwargs\u001b[49m\u001b[43m,\u001b[49m\n\u001b[0;32m    500\u001b[0m \u001b[43m    \u001b[49m\u001b[43m)\u001b[49m\n\u001b[0;32m    501\u001b[0m \u001b[38;5;28;01melif\u001b[39;00m engine \u001b[38;5;129;01mand\u001b[39;00m engine \u001b[38;5;241m!=\u001b[39m io\u001b[38;5;241m.\u001b[39mengine:\n\u001b[0;32m    502\u001b[0m     \u001b[38;5;28;01mraise\u001b[39;00m \u001b[38;5;167;01mValueError\u001b[39;00m(\n\u001b[0;32m    503\u001b[0m         \u001b[38;5;124m\"\u001b[39m\u001b[38;5;124mEngine should not be specified when passing \u001b[39m\u001b[38;5;124m\"\u001b[39m\n\u001b[0;32m    504\u001b[0m         \u001b[38;5;124m\"\u001b[39m\u001b[38;5;124man ExcelFile - ExcelFile already has the engine set\u001b[39m\u001b[38;5;124m\"\u001b[39m\n\u001b[0;32m    505\u001b[0m     )\n",
      "File \u001b[1;32mc:\\Users\\Asus\\miniconda3\\envs\\myenv\\Lib\\site-packages\\pandas\\io\\excel\\_base.py:1550\u001b[0m, in \u001b[0;36mExcelFile.__init__\u001b[1;34m(self, path_or_buffer, engine, storage_options, engine_kwargs)\u001b[0m\n\u001b[0;32m   1548\u001b[0m     ext \u001b[38;5;241m=\u001b[39m \u001b[38;5;124m\"\u001b[39m\u001b[38;5;124mxls\u001b[39m\u001b[38;5;124m\"\u001b[39m\n\u001b[0;32m   1549\u001b[0m \u001b[38;5;28;01melse\u001b[39;00m:\n\u001b[1;32m-> 1550\u001b[0m     ext \u001b[38;5;241m=\u001b[39m \u001b[43minspect_excel_format\u001b[49m\u001b[43m(\u001b[49m\n\u001b[0;32m   1551\u001b[0m \u001b[43m        \u001b[49m\u001b[43mcontent_or_path\u001b[49m\u001b[38;5;241;43m=\u001b[39;49m\u001b[43mpath_or_buffer\u001b[49m\u001b[43m,\u001b[49m\u001b[43m \u001b[49m\u001b[43mstorage_options\u001b[49m\u001b[38;5;241;43m=\u001b[39;49m\u001b[43mstorage_options\u001b[49m\n\u001b[0;32m   1552\u001b[0m \u001b[43m    \u001b[49m\u001b[43m)\u001b[49m\n\u001b[0;32m   1553\u001b[0m     \u001b[38;5;28;01mif\u001b[39;00m ext \u001b[38;5;129;01mis\u001b[39;00m \u001b[38;5;28;01mNone\u001b[39;00m:\n\u001b[0;32m   1554\u001b[0m         \u001b[38;5;28;01mraise\u001b[39;00m \u001b[38;5;167;01mValueError\u001b[39;00m(\n\u001b[0;32m   1555\u001b[0m             \u001b[38;5;124m\"\u001b[39m\u001b[38;5;124mExcel file format cannot be determined, you must specify \u001b[39m\u001b[38;5;124m\"\u001b[39m\n\u001b[0;32m   1556\u001b[0m             \u001b[38;5;124m\"\u001b[39m\u001b[38;5;124man engine manually.\u001b[39m\u001b[38;5;124m\"\u001b[39m\n\u001b[0;32m   1557\u001b[0m         )\n",
      "File \u001b[1;32mc:\\Users\\Asus\\miniconda3\\envs\\myenv\\Lib\\site-packages\\pandas\\io\\excel\\_base.py:1402\u001b[0m, in \u001b[0;36minspect_excel_format\u001b[1;34m(content_or_path, storage_options)\u001b[0m\n\u001b[0;32m   1399\u001b[0m \u001b[38;5;28;01mif\u001b[39;00m \u001b[38;5;28misinstance\u001b[39m(content_or_path, \u001b[38;5;28mbytes\u001b[39m):\n\u001b[0;32m   1400\u001b[0m     content_or_path \u001b[38;5;241m=\u001b[39m BytesIO(content_or_path)\n\u001b[1;32m-> 1402\u001b[0m \u001b[38;5;28;01mwith\u001b[39;00m \u001b[43mget_handle\u001b[49m\u001b[43m(\u001b[49m\n\u001b[0;32m   1403\u001b[0m \u001b[43m    \u001b[49m\u001b[43mcontent_or_path\u001b[49m\u001b[43m,\u001b[49m\u001b[43m \u001b[49m\u001b[38;5;124;43m\"\u001b[39;49m\u001b[38;5;124;43mrb\u001b[39;49m\u001b[38;5;124;43m\"\u001b[39;49m\u001b[43m,\u001b[49m\u001b[43m \u001b[49m\u001b[43mstorage_options\u001b[49m\u001b[38;5;241;43m=\u001b[39;49m\u001b[43mstorage_options\u001b[49m\u001b[43m,\u001b[49m\u001b[43m \u001b[49m\u001b[43mis_text\u001b[49m\u001b[38;5;241;43m=\u001b[39;49m\u001b[38;5;28;43;01mFalse\u001b[39;49;00m\n\u001b[0;32m   1404\u001b[0m \u001b[43m\u001b[49m\u001b[43m)\u001b[49m \u001b[38;5;28;01mas\u001b[39;00m handle:\n\u001b[0;32m   1405\u001b[0m     stream \u001b[38;5;241m=\u001b[39m handle\u001b[38;5;241m.\u001b[39mhandle\n\u001b[0;32m   1406\u001b[0m     stream\u001b[38;5;241m.\u001b[39mseek(\u001b[38;5;241m0\u001b[39m)\n",
      "File \u001b[1;32mc:\\Users\\Asus\\miniconda3\\envs\\myenv\\Lib\\site-packages\\pandas\\io\\common.py:882\u001b[0m, in \u001b[0;36mget_handle\u001b[1;34m(path_or_buf, mode, encoding, compression, memory_map, is_text, errors, storage_options)\u001b[0m\n\u001b[0;32m    873\u001b[0m         handle \u001b[38;5;241m=\u001b[39m \u001b[38;5;28mopen\u001b[39m(\n\u001b[0;32m    874\u001b[0m             handle,\n\u001b[0;32m    875\u001b[0m             ioargs\u001b[38;5;241m.\u001b[39mmode,\n\u001b[1;32m   (...)\u001b[0m\n\u001b[0;32m    878\u001b[0m             newline\u001b[38;5;241m=\u001b[39m\u001b[38;5;124m\"\u001b[39m\u001b[38;5;124m\"\u001b[39m,\n\u001b[0;32m    879\u001b[0m         )\n\u001b[0;32m    880\u001b[0m     \u001b[38;5;28;01melse\u001b[39;00m:\n\u001b[0;32m    881\u001b[0m         \u001b[38;5;66;03m# Binary mode\u001b[39;00m\n\u001b[1;32m--> 882\u001b[0m         handle \u001b[38;5;241m=\u001b[39m \u001b[38;5;28;43mopen\u001b[39;49m\u001b[43m(\u001b[49m\u001b[43mhandle\u001b[49m\u001b[43m,\u001b[49m\u001b[43m \u001b[49m\u001b[43mioargs\u001b[49m\u001b[38;5;241;43m.\u001b[39;49m\u001b[43mmode\u001b[49m\u001b[43m)\u001b[49m\n\u001b[0;32m    883\u001b[0m     handles\u001b[38;5;241m.\u001b[39mappend(handle)\n\u001b[0;32m    885\u001b[0m \u001b[38;5;66;03m# Convert BytesIO or file objects passed with an encoding\u001b[39;00m\n",
      "\u001b[1;31mFileNotFoundError\u001b[0m: [Errno 2] No such file or directory: 'greenite2.xlsx'"
     ]
    }
   ],
   "source": [
    "import pandas as pd\n",
    "from PIL import Image, ImageDraw, ImageFont\n",
    "import os\n",
    "import smtplib\n",
    "from email.message import EmailMessage\n",
    "\n",
    "# Load Excel Sheet\n",
    "df = pd.read_excel(\"greenite2.xlsx\")  # Ensure the Excel file has 'Name' and 'Designation' columns\n",
    "font_path = \"duarose_serif/Duarose.otf\"\n",
    "\n",
    "# Email Credentials (Use App Password if using Gmail)\n",
    "SENDER_EMAIL = \"\"   # Replace with your email\n",
    "SENDER_PASSWORD = \"\"       # Replace with your email app password\n",
    "\n",
    "# Set up SMTP Server (For Gmail)\n",
    "server = smtplib.SMTP(\"smtp.gmail.com\", 587)\n",
    "server.starttls()\n",
    "server.login(SENDER_EMAIL, SENDER_PASSWORD)\n",
    "\n"
   ]
  },
  {
   "cell_type": "code",
   "execution_count": 3,
   "metadata": {},
   "outputs": [
    {
     "ename": "NameError",
     "evalue": "name 'font_path' is not defined",
     "output_type": "error",
     "traceback": [
      "\u001b[1;31m---------------------------------------------------------------------------\u001b[0m",
      "\u001b[1;31mNameError\u001b[0m                                 Traceback (most recent call last)",
      "Cell \u001b[1;32mIn[3], line 9\u001b[0m\n\u001b[0;32m      2\u001b[0m TEMPLATES \u001b[38;5;241m=\u001b[39m {\n\u001b[0;32m      3\u001b[0m     \u001b[38;5;124m\"\u001b[39m\u001b[38;5;124mHead\u001b[39m\u001b[38;5;124m\"\u001b[39m: \u001b[38;5;124m\"\u001b[39m\u001b[38;5;124mCore-member-certificate.png\u001b[39m\u001b[38;5;124m\"\u001b[39m,         \u001b[38;5;66;03m# Template for Head\u001b[39;00m\n\u001b[0;32m      4\u001b[0m     \u001b[38;5;124m\"\u001b[39m\u001b[38;5;124mVolunteer\u001b[39m\u001b[38;5;124m\"\u001b[39m: \u001b[38;5;124m\"\u001b[39m\u001b[38;5;124mVolunteer-certificate.png\u001b[39m\u001b[38;5;124m\"\u001b[39m,  \u001b[38;5;66;03m# Template for Volunteer\u001b[39;00m\n\u001b[0;32m      5\u001b[0m     \u001b[38;5;124m\"\u001b[39m\u001b[38;5;124mMember\u001b[39m\u001b[38;5;124m\"\u001b[39m: \u001b[38;5;124m\"\u001b[39m\u001b[38;5;124mMember-certificate.png\u001b[39m\u001b[38;5;124m\"\u001b[39m          \u001b[38;5;66;03m# Template for Member\u001b[39;00m\n\u001b[0;32m      6\u001b[0m }\n\u001b[0;32m      8\u001b[0m \u001b[38;5;66;03m# Define Font (Ensure the TTF file exists)\u001b[39;00m\n\u001b[1;32m----> 9\u001b[0m font \u001b[38;5;241m=\u001b[39m ImageFont\u001b[38;5;241m.\u001b[39mtruetype(\u001b[43mfont_path\u001b[49m, \u001b[38;5;241m40\u001b[39m)  \u001b[38;5;66;03m# Adjust font size if needed\u001b[39;00m\n\u001b[0;32m     10\u001b[0m greenite_font \u001b[38;5;241m=\u001b[39m ImageFont\u001b[38;5;241m.\u001b[39mtruetype(font_path, \u001b[38;5;241m40\u001b[39m)  \u001b[38;5;66;03m# Adjust font size if needed\u001b[39;00m\n\u001b[0;32m     13\u001b[0m TEXT_POSITIONS \u001b[38;5;241m=\u001b[39m {\n\u001b[0;32m     14\u001b[0m     \u001b[38;5;124m\"\u001b[39m\u001b[38;5;124mHead\u001b[39m\u001b[38;5;124m\"\u001b[39m: (\u001b[38;5;241m1300\u001b[39m, \u001b[38;5;241m637\u001b[39m),        \u001b[38;5;66;03m# X, Y coordinates for Head template\u001b[39;00m\n\u001b[0;32m     15\u001b[0m     \u001b[38;5;124m\"\u001b[39m\u001b[38;5;124mVolunteer\u001b[39m\u001b[38;5;124m\"\u001b[39m: (\u001b[38;5;241m1265\u001b[39m, \u001b[38;5;241m690\u001b[39m),   \u001b[38;5;66;03m# X, Y coordinates for Volunteer template\u001b[39;00m\n\u001b[0;32m     16\u001b[0m     \u001b[38;5;124m\"\u001b[39m\u001b[38;5;124mMember\u001b[39m\u001b[38;5;124m\"\u001b[39m: (\u001b[38;5;241m1300\u001b[39m, \u001b[38;5;241m685\u001b[39m)       \u001b[38;5;66;03m# X, Y coordinates for Member template\u001b[39;00m\n\u001b[0;32m     17\u001b[0m }\n",
      "\u001b[1;31mNameError\u001b[0m: name 'font_path' is not defined"
     ]
    }
   ],
   "source": [
    "# Define Paths for Different Certificate Templates\n",
    "TEMPLATES = {\n",
    "    \"Head\": \"Core-member-certificate.png\",         # Template for Head\n",
    "    \"Volunteer\": \"Volunteer-certificate.png\",  # Template for Volunteer\n",
    "    \"Member\": \"Member-certificate.png\"          # Template for Member\n",
    "}\n",
    "\n",
    "# Define Font (Ensure the TTF file exists)\n",
    "font = ImageFont.truetype(font_path, 40)  # Adjust font size if needed\n",
    "greenite_font = ImageFont.truetype(font_path, 40)  # Adjust font size if needed\n",
    "\n",
    "\n",
    "TEXT_POSITIONS = {\n",
    "    \"Head\": (1300, 637),        # X, Y coordinates for Head template\n",
    "    \"Volunteer\": (1265, 690),   # X, Y coordinates for Volunteer template\n",
    "    \"Member\": (1300, 685)       # X, Y coordinates for Member template\n",
    "}\n",
    "\n",
    "# Define \"Greenite\" Text Positions for Each Template\n",
    "GREENITE_POSITIONS = {\n",
    "    \"Head\": (410, 770),        # Adjust as needed for Head template\n",
    "    \"Volunteer\": (900, 750),    # Adjust as needed for Volunteer template\n",
    "    \"Member\": (1100, 750)        # Adjust as needed for Member template\n",
    "}\n",
    "\n",
    "# Ensure 'certificates' folder exists\n",
    "os.makedirs(\"greenites\", exist_ok=True)\n",
    "\n",
    "for index, row in df.iterrows():\n",
    "    name = row[\"Name\"]\n",
    "    designation = row[\"Designation\"]\n",
    "    recipient_email = row[\"Email\"]\n",
    "    # Select the appropriate template based on Designation\n",
    "    template_path = TEMPLATES.get(designation, \"certificate_template.jpg\")  # Default if designation not found\n",
    "\n",
    "    if not os.path.exists(template_path):\n",
    "        print(f\"Template not found for {designation}, skipping {name}\")\n",
    "        continue  # Skip if template does not exist\n",
    "\n",
    "    # Load the selected template\n",
    "    template = Image.open(template_path)\n",
    "\n",
    "    # Get the correct text position for the designation\n",
    "    text_x, text_y = TEXT_POSITIONS.get(designation, (500, 300))  # Default position if designation not found\n",
    "    greenite_x, greenite_y = GREENITE_POSITIONS.get(designation, (200, 100))  # Default position if not found\n",
    "    # Create a copy of the template for each certificate\n",
    "    cert = template.copy()\n",
    "\n",
    "    # Draw Name on Certificate\n",
    "    draw = ImageDraw.Draw(cert)\n",
    "    draw.text((text_x, text_y), name, fill=\"black\", font=font)  # Adjust color if needed\n",
    "    draw.text((greenite_x, greenite_y), \"Greenite\", fill=\"black\", font=greenite_font)  # Greenite text\n",
    "\n",
    "    # Save Certificate\n",
    "    cert_filename = f\"greenites/{name}.png\"\n",
    "    cert.save(cert_filename)\n",
    "    # pdf_filename = f\"certificates/{name}.pdf\"\n",
    "    # cert.convert(\"RGB\").save(pdf_filename)  # Convert to RGB for PDF format\n",
    "\n",
    "    print(f\"Certificate saved as PDF for: {name} ({designation})\")\n",
    "    # Create Email Message\n",
    "    \n",
    "    msg = EmailMessage()\n",
    "    msg[\"Subject\"] = \"Your Certificate\"\n",
    "    msg[\"From\"] = SENDER_EMAIL\n",
    "    msg[\"To\"] = recipient_email\n",
    "    msg.set_content(f\"Dear {name},\\n\\nPlease find attached your certificate.\\n\\nBest Regards,\\nPrakriti MSIT\")\n",
    "\n",
    "    # Attach the Certificate File\n",
    "    with open(cert_filename, \"rb\") as attachment:\n",
    "        msg.add_attachment(attachment.read(), maintype=\"image\", subtype=\"png\", filename=f\"{name}.png\")\n",
    "\n",
    "    # Send Email\n",
    "    server.send_message(msg)\n",
    "    print(f\"Email sent to {recipient_email}\")\n",
    "\n",
    "print(\"All certificates generated successfully!\")\n",
    "# Close SMTP Server\n",
    "server.quit()\n",
    "print(\"All emails sent successfully!\")"
   ]
  },
  {
   "cell_type": "code",
   "execution_count": null,
   "metadata": {},
   "outputs": [],
   "source": [
    "        "
   ]
  }
 ],
 "metadata": {
  "kernelspec": {
   "display_name": "myenv",
   "language": "python",
   "name": "python3"
  },
  "language_info": {
   "codemirror_mode": {
    "name": "ipython",
    "version": 3
   },
   "file_extension": ".py",
   "mimetype": "text/x-python",
   "name": "python",
   "nbconvert_exporter": "python",
   "pygments_lexer": "ipython3",
   "version": "3.12.4"
  }
 },
 "nbformat": 4,
 "nbformat_minor": 2
}
